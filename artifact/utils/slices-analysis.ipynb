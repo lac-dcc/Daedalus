{
 "cells": [
  {
   "cell_type": "markdown",
   "metadata": {},
   "source": [
    "# Notebook to analyze Daedalus reports\n",
    "\n",
    "This script plots histograms based on the data produced by a Daedalus report.\n"
   ]
  },
  {
   "cell_type": "code",
   "execution_count": null,
   "metadata": {
    "ExecuteTime": {
     "end_time": "2025-01-22T11:57:20.262861Z",
     "start_time": "2025-01-22T11:56:44.457502Z"
    }
   },
   "outputs": [],
   "source": [
    "import os\n",
    "import pandas as pd\n",
    "import matplotlib.pyplot as plt\n",
    "from IPython.display import display\n",
    "\n",
    "def parse_report(file_path):\n",
    "    \"\"\"\n",
    "    Parses a Daedalus report and returns summary metrics and merged slice data.\n",
    "    \"\"\"\n",
    "    with open(file_path, 'r') as file:\n",
    "        lines = file.readlines()\n",
    "\n",
    "    parsed_data = {}\n",
    "    current_dict = parsed_data\n",
    "    current_slice = None\n",
    "\n",
    "    for line in lines:\n",
    "        if line.startswith('mergedSlicesMetadata:'):\n",
    "            current_dict = dict()\n",
    "        elif line.startswith('\\t'):\n",
    "            if '=' in line:\n",
    "                key, value = line.split('=')\n",
    "                key = key.strip()\n",
    "                value = int(value.strip())\n",
    "                current_dict[current_slice][key] = value\n",
    "            else:\n",
    "                current_slice = line.strip(':').strip()\n",
    "                current_dict[current_slice] = {}\n",
    "        elif '=' in line:\n",
    "            key, value = line.split('=')\n",
    "            parsed_data[key.strip()] = int(value.strip())\n",
    "\n",
    "    return parsed_data, current_dict\n",
    "\n",
    "# Directory containing the log files\n",
    "log_dir = '../../tests/'\n",
    "log_files = [os.path.join(log_dir, f) for f in os.listdir(log_dir) if f.endswith('_slices_report.log')]\n",
    "\n",
    "# Debug: Check if log files are found\n",
    "if not log_files:\n",
    "    print(\"No log files found in the directory!\")\n",
    "else:\n",
    "    print(f\"Found {len(log_files)} log files.\")\n",
    "\n",
    "# Initialize container for summary data\n",
    "summary_data = []\n",
    "\n",
    "# Process each file\n",
    "for log_file in log_files:\n",
    "    try:\n",
    "        summary_metrics, mergedSlicesMetadata = parse_report(log_file)\n",
    "        if len(mergedSlicesMetadata) > 0:\n",
    "            print(mergedSlicesMetadata)\n",
    "        summary_metrics['file'] = os.path.basename(log_file)  # Add filename for reference\n",
    "        summary_data.append(summary_metrics)\n",
    "    except Exception as e:\n",
    "        print(f\"Error processing file {log_file}: {e}\")\n",
    "\n",
    "# Create summary dataframe\n",
    "if summary_data:\n",
    "    summary_df = pd.DataFrame(summary_data)\n",
    "    print(\"Summary DataFrame:\")\n",
    "    display(summary_df)\n",
    "else:\n",
    "    print(\"No summary data to display.\")\n"
   ]
  },
  {
   "cell_type": "markdown",
   "metadata": {},
   "source": [
    "## Histogram of Total Largest Slices After Merging\n",
    "\n",
    "Plot histogram if sizeOfLargestSliceAfterMerging data is available\n"
   ]
  },
  {
   "cell_type": "code",
   "execution_count": null,
   "metadata": {
    "ExecuteTime": {
     "end_time": "2025-01-22T11:50:34.378672Z",
     "start_time": "2025-01-22T11:50:34.285424Z"
    }
   },
   "outputs": [],
   "source": [
    "if not summary_df.empty:\n",
    "    fig, ax = plt.subplots(figsize=(10, 6))\n",
    "    summary_df['sizeOfLargestSliceAfterMerging'].value_counts().sort_index().plot(kind='bar', ax=ax)\n",
    "    ax.set_title('Histogram of Total Largest Slices After Merging')\n",
    "    ax.set_xlabel('Total Slices By Largest Size')\n",
    "    ax.set_ylabel('Count')\n",
    "    plt.tight_layout()\n",
    "    plt.show()\n",
    "else:\n",
    "    print(\"No data available to plot the histogram.\")"
   ]
  }
 ],
 "metadata": {
  "kernelspec": {
   "display_name": "venv",
   "language": "python",
   "name": "python3"
  },
  "language_info": {
   "codemirror_mode": {
    "name": "ipython",
    "version": 3
   },
   "file_extension": ".py",
   "mimetype": "text/x-python",
   "name": "python",
   "nbconvert_exporter": "python",
   "pygments_lexer": "ipython3",
   "version": "3.12.3"
  }
 },
 "nbformat": 4,
 "nbformat_minor": 2
}
