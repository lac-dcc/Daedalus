{
 "cells": [
  {
   "cell_type": "markdown",
   "metadata": {},
   "source": [
    "# Notebook to analyze Daedalus reports\n",
    "\n",
    "This script plots histograms based on the data produced by a Daedalus report.\n"
   ]
  },
  {
   "cell_type": "code",
   "execution_count": 17,
   "metadata": {},
   "outputs": [
    {
     "name": "stdout",
     "output_type": "stream",
     "text": [
      "Summary Metrics:\n"
     ]
    },
    {
     "data": {
      "text/html": [
       "<div>\n",
       "<style scoped>\n",
       "    .dataframe tbody tr th:only-of-type {\n",
       "        vertical-align: middle;\n",
       "    }\n",
       "\n",
       "    .dataframe tbody tr th {\n",
       "        vertical-align: top;\n",
       "    }\n",
       "\n",
       "    .dataframe thead th {\n",
       "        text-align: right;\n",
       "    }\n",
       "</style>\n",
       "<table border=\"1\" class=\"dataframe\">\n",
       "  <thead>\n",
       "    <tr style=\"text-align: right;\">\n",
       "      <th></th>\n",
       "      <th>totalSlicesFound</th>\n",
       "      <th>totalSlicesMerged</th>\n",
       "      <th>totalSlicesDiscarded</th>\n",
       "      <th>sizeOfLargestSliceBeforeMerging</th>\n",
       "      <th>sizeOfLargestSliceAfterMerging</th>\n",
       "    </tr>\n",
       "  </thead>\n",
       "  <tbody>\n",
       "    <tr>\n",
       "      <th>0</th>\n",
       "      <td>11</td>\n",
       "      <td>4</td>\n",
       "      <td>3</td>\n",
       "      <td>6</td>\n",
       "      <td>4</td>\n",
       "    </tr>\n",
       "  </tbody>\n",
       "</table>\n",
       "</div>"
      ],
      "text/plain": [
       "   totalSlicesFound  totalSlicesMerged  totalSlicesDiscarded  \\\n",
       "0                11                  4                     3   \n",
       "\n",
       "   sizeOfLargestSliceBeforeMerging  sizeOfLargestSliceAfterMerging  \n",
       "0                                6                               4  "
      ]
     },
     "metadata": {},
     "output_type": "display_data"
    },
    {
     "data": {
      "image/png": "[encoded data removed]",
      "text/plain": [
       "<Figure size 1000x600 with 1 Axes>"
      ]
     },
     "metadata": {},
     "output_type": "display_data"
    }
   ],
   "source": [
    "import pandas as pd\n",
    "from IPython.display import display\n",
    "import matplotlib.pyplot as plt\n",
    "\n",
    "# A Daedalus report has the following syntax:\n",
    "data = \"\"\"\n",
    "totalSlicesFound = 11\n",
    "totalSlicesMerged = 4\n",
    "totalSlicesDiscarded = 3\n",
    "sizeOfLargestSliceBeforeMerging = 6\n",
    "sizeOfLargestSliceAfterMerging = 4\n",
    "mergedSlicesMetadata:\n",
    "\t_wyvern_slice_main__609848474:\n",
    "\t\tsize = 4\n",
    "\t_wyvern_slice_main__258803180:\n",
    "\t\tsize = 4\n",
    "\t_wyvern_slice_main__720642833:\n",
    "\t\tsize = 4\n",
    "\t_wyvern_slice_main__1393073:\n",
    "\t\tsize = 4\n",
    "\"\"\"\n",
    "\n",
    "# Parse the data\n",
    "lines = data.strip().split('\\n')\n",
    "parsed_data = {}\n",
    "merged_slices = {}\n",
    "\n",
    "current_dict = parsed_data\n",
    "current_slice = None\n",
    "\n",
    "for line in lines:\n",
    "    if line.startswith('mergedSlicesMetadata:'):\n",
    "        current_dict = merged_slices\n",
    "    elif line.startswith('\\t'):\n",
    "        if '=' in line:\n",
    "            key, value = line.split('=')\n",
    "            key = key.strip()\n",
    "            value = int(value.strip())\n",
    "            current_dict[current_slice][key] = value\n",
    "        else:\n",
    "            current_slice = line.strip(':').strip()\n",
    "            current_dict[current_slice] = {}\n",
    "    elif '=' in line:\n",
    "        key, value = line.split('=')\n",
    "        parsed_data[key.strip()] = int(value.strip())\n",
    "\n",
    "\n",
    "# Create dataframes\n",
    "summary_df = pd.DataFrame([parsed_data])\n",
    "merged_slices_df = pd.DataFrame.from_dict(merged_slices, orient='index')\n",
    "\n",
    "# Print summary metrics\n",
    "print(\"Summary Metrics:\")\n",
    "display(summary_df)\n",
    "\n",
    "# Calculate size counts\n",
    "size_counts = merged_slices_df['size'].value_counts()\n",
    "\n",
    "# Plot histogram for merged slices sizes\n",
    "fig, ax = plt.subplots(figsize=(10, 6))\n",
    "\n",
    "size_counts.plot(kind='bar', ax=ax, legend=False)\n",
    "ax.set_title('Count of Slices per Size')\n",
    "ax.set_xlabel('Size')\n",
    "ax.set_ylabel('Count')\n",
    "\n",
    "plt.tight_layout()\n",
    "plt.show()\n"
   ]
  }
 ],
 "metadata": {
  "kernelspec": {
   "display_name": "venv",
   "language": "python",
   "name": "python3"
  },
  "language_info": {
   "codemirror_mode": {
    "name": "ipython",
    "version": 3
   },
   "file_extension": ".py",
   "mimetype": "text/x-python",
   "name": "python",
   "nbconvert_exporter": "python",
   "pygments_lexer": "ipython3",
   "version": "3.12.3"
  }
 },
 "nbformat": 4,
 "nbformat_minor": 2
}
